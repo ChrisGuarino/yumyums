{
 "cells": [
  {
   "cell_type": "code",
   "execution_count": null,
   "metadata": {},
   "outputs": [
    {
     "ename": "",
     "evalue": "",
     "output_type": "error",
     "traceback": [
      "\u001b[1;31mRunning cells with 'TEST_Enir' requires the ipykernel package.\n",
      "\u001b[1;31mRun the following command to install 'ipykernel' into the Python environment. \n",
      "\u001b[1;31mCommand: 'conda install -n TEST_Enir ipykernel --update-deps --force-reinstall'"
     ]
    }
   ],
   "source": [
    "import cv2\n",
    "\n",
    "# Open a window to show the camera feed\n",
    "cv2.namedWindow(\"ViT Model Test\")\n",
    "\n",
    "# Initialize the camera (0 usually refers to the default camera)\n",
    "cap = cv2.VideoCapture(0)\n",
    "\n",
    "while True:\n",
    "    # Capture frame-by-frame\n",
    "    ret, frame = cap.read()\n",
    "\n",
    "    if not ret:\n",
    "        break\n",
    "\n",
    "    # Display the resulting frame\n",
    "    cv2.imshow(\"ViT Model Test\", frame)\n",
    "\n",
    "    # Press 'q' to close the window\n",
    "    if cv2.waitKey(1) & 0xFF == ord('q'):\n",
    "        break\n",
    "\n",
    "# When everything done, release the capture\n",
    "cap.release()\n",
    "cv2.destroyAllWindows() "
   ]
  },
  {
   "cell_type": "code",
   "execution_count": 2,
   "metadata": {},
   "outputs": [],
   "source": [
    "from transformers import ViTForImageClassification\n",
    "model = ViTForImageClassification.from_pretrained('ChrisGuarino/cat_ds')"
   ]
  },
  {
   "cell_type": "code",
   "execution_count": null,
   "metadata": {},
   "outputs": [],
   "source": [
    "import cv2\n",
    "import torch\n",
    "from ModelTrain import model, preprocess_image  # Replace with your model and preprocessing\n",
    "\n",
    "# Load your trained model\n",
    "model = YourModel()\n",
    "model.eval()  # Set the model to evaluation mode\n",
    "\n",
    "# Initialize the camera\n",
    "cap = cv2.VideoCapture(0)  # 0 is usually the default camera\n",
    "\n",
    "try:\n",
    "    while True:\n",
    "        # Capture frame-by-frame\n",
    "        ret, frame = cap.read()\n",
    "        if not ret:\n",
    "            break\n",
    "\n",
    "        # Preprocess the image\n",
    "        input_tensor = preprocess_image(frame)\n",
    "\n",
    "        # Make a prediction\n",
    "        with torch.no_grad():\n",
    "            prediction = model(input_tensor)\n",
    "\n",
    "        # Process the prediction (e.g., convert to readable format)\n",
    "        readable_prediction = process_prediction(prediction)  # Define this based on your model output\n",
    "\n",
    "        # Display the resulting frame with prediction\n",
    "        cv2.putText(frame, readable_prediction, (10, 30), cv2.FONT_HERSHEY_SIMPLEX, 1, (0, 255, 0), 2)\n",
    "        cv2.imshow('Cat Recognition', frame)\n",
    "\n",
    "        # Break the loop with 'q'\n",
    "        if cv2.waitKey(1) & 0xFF == ord('q'):\n",
    "            break\n",
    "\n",
    "finally:\n",
    "    # When everything is done, release the capture\n",
    "    cap.release()\n",
    "    cv2.destroyAllWindows()\n"
   ]
  }
 ],
 "metadata": {
  "kernelspec": {
   "display_name": "base",
   "language": "python",
   "name": "python3"
  },
  "language_info": {
   "codemirror_mode": {
    "name": "ipython",
    "version": 3
   },
   "file_extension": ".py",
   "mimetype": "text/x-python",
   "name": "python",
   "nbconvert_exporter": "python",
   "pygments_lexer": "ipython3",
   "version": "3.9.18"
  }
 },
 "nbformat": 4,
 "nbformat_minor": 2
}
