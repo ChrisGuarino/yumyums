{
 "cells": [
  {
   "cell_type": "code",
   "execution_count": 6,
   "metadata": {},
   "outputs": [],
   "source": [
    "import cv2\n",
    "import torch\n",
    "from transformers import ViTImageProcessor, ViTForImageClassification\n",
    "\n",
    "# Initialize the image processor and model\n",
    "processor = ViTImageProcessor.from_pretrained('google/vit-base-patch16-224-in21k')\n",
    "model = ViTForImageClassification.from_pretrained('ChrisGuarino/cat_ds')  # Replace with your model\n",
    "model.eval()\n",
    "\n",
    "# Define your class labels\n",
    "class_labels = ['Prim', 'Rupe']  # Replace with your actual labels\n",
    "\n",
    "# Start the webcam\n",
    "cap = cv2.VideoCapture(0)\n",
    "\n",
    "while True:\n",
    "    ret, frame = cap.read()\n",
    "\n",
    "    if ret:\n",
    "        # Preprocess the frame\n",
    "        frame_resized = cv2.resize(frame, (224, 224))\n",
    "        frame_rgb = cv2.cvtColor(frame_resized, cv2.COLOR_BGR2RGB)\n",
    "        inputs = processor(images=frame_rgb, return_tensors=\"pt\")\n",
    "\n",
    "        # Get predictions\n",
    "        with torch.no_grad():\n",
    "            predictions = model(**inputs).logits\n",
    "\n",
    "        # Convert predictions to probabilities and get the highest probability class\n",
    "        probabilities = torch.nn.functional.softmax(predictions, dim=-1)\n",
    "        predicted_class_idx = probabilities.argmax(-1).item()\n",
    "        predicted_class = class_labels[predicted_class_idx]\n",
    "\n",
    "        # Display the prediction on the frame\n",
    "        cv2.putText(frame_resized, predicted_class, (10, 30), cv2.FONT_HERSHEY_SIMPLEX, 1, (0, 255, 0), 2)\n",
    "\n",
    "        # Display the resulting frame\n",
    "        cv2.imshow('Frame', frame_resized)\n",
    "\n",
    "        # Break the loop with 'q'\n",
    "        if cv2.waitKey(1) & 0xFF == ord('q'):\n",
    "            break\n",
    "    else:\n",
    "        break\n",
    "\n",
    "# Release the capture when done\n",
    "cap.release()\n",
    "cv2.destroyAllWindows()\n"
   ]
  },
  {
   "cell_type": "code",
   "execution_count": null,
   "metadata": {},
   "outputs": [],
   "source": []
  }
 ],
 "metadata": {
  "kernelspec": {
   "display_name": "base",
   "language": "python",
   "name": "python3"
  },
  "language_info": {
   "codemirror_mode": {
    "name": "ipython",
    "version": 3
   },
   "file_extension": ".py",
   "mimetype": "text/x-python",
   "name": "python",
   "nbconvert_exporter": "python",
   "pygments_lexer": "ipython3",
   "version": "3.9.18"
  }
 },
 "nbformat": 4,
 "nbformat_minor": 2
}
