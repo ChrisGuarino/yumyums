{
 "cells": [
  {
   "cell_type": "code",
   "execution_count": 12,
   "metadata": {},
   "outputs": [],
   "source": [
    "import cv2\n",
    "import helper_functions"
   ]
  },
  {
   "cell_type": "code",
   "execution_count": 13,
   "metadata": {},
   "outputs": [],
   "source": [
    "# Start the webcam\n",
    "cap = cv2.VideoCapture(0)\n",
    "# Optionally, set a lower resolution\n",
    "cap.set(cv2.CAP_PROP_FRAME_WIDTH, 640)\n",
    "cap.set(cv2.CAP_PROP_FRAME_HEIGHT, 480)\n",
    "\n",
    "ret, prev_frame = cap.read()"
   ]
  },
  {
   "cell_type": "code",
   "execution_count": 14,
   "metadata": {},
   "outputs": [
    {
     "ename": "AttributeError",
     "evalue": "module 'helper_functions' has no attribute 'cat_or_not'",
     "output_type": "error",
     "traceback": [
      "\u001b[0;31m---------------------------------------------------------------------------\u001b[0m",
      "\u001b[0;31mAttributeError\u001b[0m                            Traceback (most recent call last)",
      "Cell \u001b[0;32mIn[14], line 20\u001b[0m\n\u001b[1;32m     17\u001b[0m cv2\u001b[38;5;241m.\u001b[39mputText(current_frame, text, (\u001b[38;5;241m10\u001b[39m, \u001b[38;5;241m30\u001b[39m), cv2\u001b[38;5;241m.\u001b[39mFONT_HERSHEY_SIMPLEX, \u001b[38;5;241m1\u001b[39m, (\u001b[38;5;241m0\u001b[39m, \u001b[38;5;241m0\u001b[39m, \u001b[38;5;241m255\u001b[39m), \u001b[38;5;241m2\u001b[39m)\n\u001b[1;32m     19\u001b[0m \u001b[38;5;66;03m# Here, you can add your cat detection model or other actions\u001b[39;00m\n\u001b[0;32m---> 20\u001b[0m display_text, label, _ \u001b[38;5;241m=\u001b[39m \u001b[43mhelper_functions\u001b[49m\u001b[38;5;241;43m.\u001b[39;49m\u001b[43mcat_or_not\u001b[49m(ret,current_frame)\n\u001b[1;32m     21\u001b[0m \u001b[38;5;28;01mif\u001b[39;00m label \u001b[38;5;241m==\u001b[39m \u001b[38;5;124m\"\u001b[39m\u001b[38;5;124mPrim\u001b[39m\u001b[38;5;124m\"\u001b[39m \u001b[38;5;129;01mor\u001b[39;00m \u001b[38;5;124m\"\u001b[39m\u001b[38;5;124mRupe\u001b[39m\u001b[38;5;124m\"\u001b[39m: \n\u001b[1;32m     22\u001b[0m     cv2\u001b[38;5;241m.\u001b[39mputText(current_frame, display_text, (\u001b[38;5;241m10\u001b[39m, \u001b[38;5;241m30\u001b[39m), cv2\u001b[38;5;241m.\u001b[39mFONT_HERSHEY_SIMPLEX, \u001b[38;5;241m1\u001b[39m, (\u001b[38;5;241m0\u001b[39m, \u001b[38;5;241m0\u001b[39m, \u001b[38;5;241m255\u001b[39m), \u001b[38;5;241m2\u001b[39m)\n",
      "\u001b[0;31mAttributeError\u001b[0m: module 'helper_functions' has no attribute 'cat_or_not'"
     ]
    }
   ],
   "source": [
    "if not ret:\n",
    "    print(\"Failed to capture initial frame\")\n",
    "else:\n",
    "    while True:\n",
    "        ret, current_frame = cap.read()  # Continuously capture frames\n",
    "        if not ret:\n",
    "            break\n",
    "        \n",
    "        # Detect significant changes\n",
    "        if helper_functions.change_detected(prev_frame, current_frame):\n",
    "            # Draw a rectangle over the entire frame\n",
    "            # Top-left corner at (x1, y1) and bottom-right corner at (x2, y2)\n",
    "            x1, y1 = 10, 10\n",
    "            x2, y2 = current_frame.shape[1] - 10, current_frame.shape[0] - 10  # Subtract 10 to have some margin\n",
    "            cv2.rectangle(current_frame, (x1, y1), (x2, y2), (0, 0, 255), 2)  # Red rectangle with thickness of 2\n",
    "            text = \"Motion Detected!\"\n",
    "            cv2.putText(current_frame, text, (10, 30), cv2.FONT_HERSHEY_SIMPLEX, 1, (0, 0, 255), 2)\n",
    "\n",
    "            # Here, you can add your cat detection model or other actions\n",
    "            display_text, label, _ = helper_functions.cat_or_not(ret,current_frame)\n",
    "            if label == \"Prim\" or \"Rupe\": \n",
    "                cv2.putText(current_frame, display_text, (10, 30), cv2.FONT_HERSHEY_SIMPLEX, 1, (0, 0, 255), 2)\n",
    "                # Execute the next STEP \n",
    "            else:                 \n",
    "                cv2.putText(current_frame, display_text, (10, 30), cv2.FONT_HERSHEY_SIMPLEX, 1, (0, 0, 255), 2)\n",
    "        else: \n",
    "            continue\n",
    "\n",
    "        # Display the current frame (optional)\n",
    "        cv2.imshow('Video Stream', current_frame)\n",
    "        \n",
    "        # Update the previous frame\n",
    "        prev_frame = current_frame.copy()\n",
    "        \n",
    "        # Break the loop with a 'q' key press\n",
    "        if cv2.waitKey(1) & 0xFF == ord('q'):\n",
    "            break\n",
    "\n",
    "# Release the capture and close any OpenCV windows\n",
    "cap.release()\n",
    "cv2.destroyAllWindows()\n"
   ]
  },
  {
   "cell_type": "code",
   "execution_count": null,
   "metadata": {},
   "outputs": [],
   "source": []
  }
 ],
 "metadata": {
  "kernelspec": {
   "display_name": "yumyums_env3.9",
   "language": "python",
   "name": "python3"
  },
  "language_info": {
   "codemirror_mode": {
    "name": "ipython",
    "version": 3
   },
   "file_extension": ".py",
   "mimetype": "text/x-python",
   "name": "python",
   "nbconvert_exporter": "python",
   "pygments_lexer": "ipython3",
   "version": "3.9.18"
  }
 },
 "nbformat": 4,
 "nbformat_minor": 2
}
