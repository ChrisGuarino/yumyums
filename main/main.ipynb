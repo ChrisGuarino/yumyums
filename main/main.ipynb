{
 "cells": [
  {
   "cell_type": "code",
   "execution_count": 1,
   "metadata": {},
   "outputs": [
    {
     "name": "stderr",
     "output_type": "stream",
     "text": [
      "/Users/chrisguarino/opt/anaconda3/envs/yumyums_env3.9/lib/python3.9/site-packages/tqdm/auto.py:21: TqdmWarning: IProgress not found. Please update jupyter and ipywidgets. See https://ipywidgets.readthedocs.io/en/stable/user_install.html\n",
      "  from .autonotebook import tqdm as notebook_tqdm\n"
     ]
    }
   ],
   "source": [
    "import cv2\n",
    "import helper_functions"
   ]
  },
  {
   "cell_type": "code",
   "execution_count": 16,
   "metadata": {},
   "outputs": [
    {
     "data": {
      "text/plain": [
       "True"
      ]
     },
     "execution_count": 16,
     "metadata": {},
     "output_type": "execute_result"
    }
   ],
   "source": [
    "# Start the webcam\n",
    "cap = cv2.VideoCapture(0)\n",
    "# Optionally, set a lower resolution\n",
    "cap.set(cv2.CAP_PROP_FRAME_WIDTH, 640)\n",
    "cap.set(cv2.CAP_PROP_FRAME_HEIGHT, 480)"
   ]
  },
  {
   "cell_type": "code",
   "execution_count": 17,
   "metadata": {},
   "outputs": [],
   "source": [
    "ret, prev_frame = cap.read()\n",
    "if not ret:\n",
    "    print(\"Failed to capture initial frame\")\n",
    "else:\n",
    "    tick = 0\n",
    "    while True:\n",
    "        tick += 1\n",
    "        ret, current_frame = cap.read()  # Continuously capture frames\n",
    "        if not ret:\n",
    "            break\n",
    "        \n",
    "        # Detect significant changes\n",
    "        if helper_functions.change_detected(prev_frame, current_frame):\n",
    "            if tick % 100 == 0:\n",
    "                #Run Cat Model\n",
    "                display_text, label, _ = helper_functions.cat_or_not(ret,current_frame)\n",
    "                if label == \"Prim\" or \"Rupe\": \n",
    "                    cv2.putText(current_frame, display_text, (10, 30), cv2.FONT_HERSHEY_SIMPLEX, 1, (0, 0, 255), 2)\n",
    "\n",
    "        # Display the current frame (optional)\n",
    "        cv2.imshow('Video Stream', current_frame)\n",
    "    \n",
    "        # Update the previous frame\n",
    "        prev_frame = current_frame.copy()\n",
    "        \n",
    "        # Break the loop with a 'q' key press\n",
    "        if cv2.waitKey(1) & 0xFF == ord('q'):\n",
    "            break\n",
    "\n",
    "# Release the capture and close any OpenCV windows\n",
    "cap.release()\n",
    "cv2.destroyAllWindows()\n"
   ]
  },
  {
   "cell_type": "code",
   "execution_count": null,
   "metadata": {},
   "outputs": [],
   "source": []
  }
 ],
 "metadata": {
  "kernelspec": {
   "display_name": "yumyums_env3.9",
   "language": "python",
   "name": "python3"
  },
  "language_info": {
   "codemirror_mode": {
    "name": "ipython",
    "version": 3
   },
   "file_extension": ".py",
   "mimetype": "text/x-python",
   "name": "python",
   "nbconvert_exporter": "python",
   "pygments_lexer": "ipython3",
   "version": "3.9.18"
  }
 },
 "nbformat": 4,
 "nbformat_minor": 2
}
