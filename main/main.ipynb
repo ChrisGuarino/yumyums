{
 "cells": [
  {
   "cell_type": "code",
   "execution_count": 2,
   "metadata": {},
   "outputs": [],
   "source": [
    "import cv2\n",
    "import helper_functions"
   ]
  },
  {
   "cell_type": "code",
   "execution_count": 3,
   "metadata": {},
   "outputs": [
    {
     "name": "stderr",
     "output_type": "stream",
     "text": [
      "2024-02-13 15:18:50.610 python[57435:428634] WARNING: AVCaptureDeviceTypeExternal is deprecated for Continuity Cameras. Please use AVCaptureDeviceTypeContinuityCamera and add NSCameraUseContinuityCameraDeviceType to your Info.plist.\n"
     ]
    }
   ],
   "source": [
    "# Start the webcam\n",
    "cap = cv2.VideoCapture(0)\n",
    "# Optionally, set a lower resolution\n",
    "cap.set(cv2.CAP_PROP_FRAME_WIDTH, 640)\n",
    "cap.set(cv2.CAP_PROP_FRAME_HEIGHT, 480)\n",
    "\n",
    "ret, prev_frame = cap.read()"
   ]
  },
  {
   "cell_type": "code",
   "execution_count": 4,
   "metadata": {},
   "outputs": [],
   "source": [
    "if not ret:\n",
    "    print(\"Failed to capture initial frame\")\n",
    "else:\n",
    "    while True:\n",
    "        ret, current_frame = cap.read()  # Continuously capture frames\n",
    "        if not ret:\n",
    "            break\n",
    "        \n",
    "        # Detect significant changes\n",
    "        if helper_functions.change_detected(prev_frame, current_frame):\n",
    "            # Draw a rectangle over the entire frame\n",
    "            # Top-left corner at (x1, y1) and bottom-right corner at (x2, y2)\n",
    "            x1, y1 = 10, 10\n",
    "            x2, y2 = current_frame.shape[1] - 10, current_frame.shape[0] - 10  # Subtract 10 to have some margin\n",
    "            cv2.rectangle(current_frame, (x1, y1), (x2, y2), (0, 0, 255), 2)  # Red rectangle with thickness of 2\n",
    "            text = \"Motion Detected!\"\n",
    "            cv2.putText(current_frame, text, (10, 30), cv2.FONT_HERSHEY_SIMPLEX, 1, (0, 0, 255), 2)\n",
    "\n",
    "            # Here, you can add your cat detection model or other actions\n",
    "            \n",
    "\n",
    "        # Display the current frame (optional)\n",
    "        cv2.imshow('Video Stream', current_frame)\n",
    "        \n",
    "        # Update the previous frame\n",
    "        prev_frame = current_frame.copy()\n",
    "        \n",
    "        # Break the loop with a 'q' key press\n",
    "        if cv2.waitKey(1) & 0xFF == ord('q'):\n",
    "            break\n",
    "\n",
    "# Release the capture and close any OpenCV windows\n",
    "cap.release()\n",
    "cv2.destroyAllWindows()\n"
   ]
  },
  {
   "cell_type": "code",
   "execution_count": null,
   "metadata": {},
   "outputs": [],
   "source": []
  }
 ],
 "metadata": {
  "kernelspec": {
   "display_name": "yumyums_env3.9",
   "language": "python",
   "name": "python3"
  },
  "language_info": {
   "codemirror_mode": {
    "name": "ipython",
    "version": 3
   },
   "file_extension": ".py",
   "mimetype": "text/x-python",
   "name": "python",
   "nbconvert_exporter": "python",
   "pygments_lexer": "ipython3",
   "version": "3.9.18"
  }
 },
 "nbformat": 4,
 "nbformat_minor": 2
}
