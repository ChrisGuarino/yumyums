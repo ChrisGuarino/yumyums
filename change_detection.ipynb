{
 "cells": [
  {
   "cell_type": "code",
   "execution_count": null,
   "metadata": {},
   "outputs": [],
   "source": [
    "import cv2 \n",
    "import matplotlib as plt\n",
    "from ImageHolder import ImageHolder\n",
    "\n",
    "#Get temp image\n",
    "image_holder = ImageHolder()\n",
    "image_holder.capture_image()\n",
    "\n",
    "# Calculate histogram using OpenCV\n",
    "histogram = cv2.calcHist([image_holder], [0], None, [256], [0, 256])\n",
    "\n",
    "# Plot the histogram\n",
    "plt.plot(histogram)\n",
    "plt.title('Histogram for gray scale image')\n",
    "plt.xlabel('Intensity Value')\n",
    "plt.ylabel('Pixel Count')\n",
    "plt.xlim([0, 256])\n",
    "plt.show()\n"
   ]
  }
 ],
 "metadata": {
  "language_info": {
   "name": "python"
  }
 },
 "nbformat": 4,
 "nbformat_minor": 2
}
